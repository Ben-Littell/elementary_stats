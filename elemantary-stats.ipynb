{
 "cells": [
  {
   "cell_type": "code",
   "execution_count": 1,
   "id": "ef2ed4a5",
   "metadata": {
    "_cell_guid": "b1076dfc-b9ad-4769-8c92-a6c4dae69d19",
    "_uuid": "8f2839f25d086af736a60e9eeb907d3b93b6e0e5",
    "execution": {
     "iopub.execute_input": "2022-10-20T00:52:07.599481Z",
     "iopub.status.busy": "2022-10-20T00:52:07.599100Z",
     "iopub.status.idle": "2022-10-20T00:52:07.619557Z",
     "shell.execute_reply": "2022-10-20T00:52:07.617669Z"
    },
    "papermill": {
     "duration": 0.026778,
     "end_time": "2022-10-20T00:52:07.622266",
     "exception": false,
     "start_time": "2022-10-20T00:52:07.595488",
     "status": "completed"
    },
    "tags": []
   },
   "outputs": [
    {
     "name": "stdout",
     "output_type": "stream",
     "text": [
      "/kaggle/input/football-stats/qb_data.txt\n"
     ]
    }
   ],
   "source": [
    "# This Python 3 environment comes with many helpful analytics libraries installed\n",
    "# It is defined by the kaggle/python Docker image: https://github.com/kaggle/docker-python\n",
    "# For example, here's several helpful packages to load\n",
    "\n",
    "import numpy as np # linear algebra\n",
    "import pandas as pd # data processing, CSV file I/O (e.g. pd.read_csv)\n",
    "\n",
    "# Input data files are available in the read-only \"../input/\" directory\n",
    "# For example, running this (by clicking run or pressing Shift+Enter) will list all files under the input directory\n",
    "\n",
    "import os\n",
    "for dirname, _, filenames in os.walk('/kaggle/input'):\n",
    "    for filename in filenames:\n",
    "        print(os.path.join(dirname, filename))\n",
    "\n",
    "# You can write up to 20GB to the current directory (/kaggle/working/) that gets preserved as output when you create a version using \"Save & Run All\" \n",
    "# You can also write temporary files to /kaggle/temp/, but they won't be saved outside of the current session"
   ]
  },
  {
   "cell_type": "code",
   "execution_count": 2,
   "id": "2d3d58cd",
   "metadata": {
    "execution": {
     "iopub.execute_input": "2022-10-20T00:52:07.627347Z",
     "iopub.status.busy": "2022-10-20T00:52:07.626987Z",
     "iopub.status.idle": "2022-10-20T00:52:07.677351Z",
     "shell.execute_reply": "2022-10-20T00:52:07.674873Z"
    },
    "papermill": {
     "duration": 0.056002,
     "end_time": "2022-10-20T00:52:07.680242",
     "exception": false,
     "start_time": "2022-10-20T00:52:07.624240",
     "status": "completed"
    },
    "tags": []
   },
   "outputs": [
    {
     "name": "stdout",
     "output_type": "stream",
     "text": [
      "<class 'pandas.core.frame.DataFrame'>\n",
      "RangeIndex: 34 entries, 0 to 33\n",
      "Data columns (total 11 columns):\n",
      " #   Column    Non-Null Count  Dtype  \n",
      "---  ------    --------------  -----  \n",
      " 0   First     34 non-null     object \n",
      " 1   Last      34 non-null     object \n",
      " 2   Position  34 non-null     object \n",
      " 3   Team      34 non-null     object \n",
      " 4   Comps     34 non-null     int64  \n",
      " 5   Atmpts    34 non-null     int64  \n",
      " 6   Yds       34 non-null     int64  \n",
      " 7   TDs       34 non-null     int64  \n",
      " 8   Ints      34 non-null     int64  \n",
      " 9   Comp%     34 non-null     object \n",
      " 10  Rating    34 non-null     float64\n",
      "dtypes: float64(1), int64(5), object(5)\n",
      "memory usage: 3.0+ KB\n"
     ]
    }
   ],
   "source": [
    "import math\n",
    "import pandas as pd\n",
    "import numpy as np\n",
    "x = [3, 5, 6, 8, 12, 2]\n",
    "y = [3, 5, 6, 8, 12, 2, 5]\n",
    "path = '../input/football-stats/qb_data.txt'\n",
    "\n",
    "def mean(data):\n",
    "    total = sum(data)\n",
    "    m = total/len(data)\n",
    "    return m\n",
    "    \n",
    "def median(data):\n",
    "    data.sort()\n",
    "    if len(data)%2 == 0:\n",
    "        m = (data[len(data)//2] + data[len(data)//2-1])/2\n",
    "    else:\n",
    "        m = data[len(data)//2]\n",
    "    return m\n",
    "\n",
    "def variance(data):\n",
    "    new_list = [(val-mean(data))**2 for val in data]\n",
    "    v = mean(new_list)\n",
    "    return v\n",
    "\n",
    "def stand_dev(data):\n",
    "    v = variance(data)\n",
    "    s = math.sqrt(v)\n",
    "    return s\n",
    "\n",
    "def elem_stats(data):\n",
    "    new_dict = {\n",
    "        'mean': mean(data),\n",
    "        'median': median(data),\n",
    "        'variance': variance(data),\n",
    "        'std': stand_dev(data),\n",
    "        'min': min(data),\n",
    "        'max': max(data)\n",
    "    }\n",
    "    return new_dict\n",
    "\n",
    "\n",
    "me = mean(x)\n",
    "med = median(x)\n",
    "var = variance(y)\n",
    "std = stand_dev(y)\n",
    "x_stat_dict = elem_stats(x)\n",
    "\n",
    "\n",
    "og_df = pd.read_csv(path, delim_whitespace=True)\n",
    "# og_df['Comp%'] = og_df['Comp%'].str.\n",
    "# og_df['Comp%'] = og_df['Comp%'].astype('float64')\n",
    "og_df.info()\n"
   ]
  }
 ],
 "metadata": {
  "kernelspec": {
   "display_name": "Python 3",
   "language": "python",
   "name": "python3"
  },
  "language_info": {
   "codemirror_mode": {
    "name": "ipython",
    "version": 3
   },
   "file_extension": ".py",
   "mimetype": "text/x-python",
   "name": "python",
   "nbconvert_exporter": "python",
   "pygments_lexer": "ipython3",
   "version": "3.7.12"
  },
  "papermill": {
   "default_parameters": {},
   "duration": 10.227519,
   "end_time": "2022-10-20T00:52:08.416869",
   "environment_variables": {},
   "exception": null,
   "input_path": "__notebook__.ipynb",
   "output_path": "__notebook__.ipynb",
   "parameters": {},
   "start_time": "2022-10-20T00:51:58.189350",
   "version": "2.3.4"
  }
 },
 "nbformat": 4,
 "nbformat_minor": 5
}
